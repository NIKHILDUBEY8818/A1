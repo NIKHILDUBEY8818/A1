{
 "cells": [
  {
   "cell_type": "markdown",
   "id": "05b0bc76",
   "metadata": {},
   "source": [
    "# Q.1. Write a program that calculates and prints the value according to the given formula: "
   ]
  },
  {
   "cell_type": "code",
   "execution_count": 2,
   "id": "fe56e911",
   "metadata": {},
   "outputs": [
    {
     "name": "stdout",
     "output_type": "stream",
     "text": [
      "Enter values:\n",
      "100 , 150 , 180\n",
      "Output:\n",
      "18,22,24,"
     ]
    }
   ],
   "source": [
    "D = [int(i) for i in input(\"Enter values:\\n\").split(',')]\n",
    "C = 50\n",
    "H = 30\n",
    "E = []\n",
    "for j in range(0,len(D)):\n",
    "    Q = ((2*C*D[j])/H)**0.5\n",
    "    E.append(Q)\n",
    "print(\"Output:\")\n",
    "for k in range(0,len(E)):\n",
    "    print(int(E[k]), end = \",\")\n"
   ]
  },
  {
   "cell_type": "markdown",
   "id": "3fd6fe4e",
   "metadata": {},
   "source": [
    "# Question 2: Write a program which takes 2 digits, X,Y as input and generates a 2-dimensional array.                                                                                                                                                                                                                                      The element value in the i-th row and j-th column of the array should be i*j.        Note: i=0,1.., X-1; j=0,1,¡Y-1.                                                                    ExampleSuppose the following inputs are given to the program:  3,5             Then, the output of the program should be:[[0, 0, 0, 0, 0], [0, 1, 2, 3, 4], [0, 2, 4, 6, 8]]"
   ]
  },
  {
   "cell_type": "code",
   "execution_count": 3,
   "id": "d8cb0d54",
   "metadata": {},
   "outputs": [
    {
     "name": "stdout",
     "output_type": "stream",
     "text": [
      "Enter no of rows: 4\n",
      "Enter no of columns: 4\n",
      "[0, 0, 0, 0]\n",
      "[0, 1, 2, 3]\n",
      "[0, 2, 4, 6]\n",
      "[0, 3, 6, 9]\n",
      "[[0, 0, 0, 0], [0, 1, 2, 3], [0, 2, 4, 6], [0, 3, 6, 9]]\n"
     ]
    }
   ],
   "source": [
    "x = int(input(\"Enter no of rows: \"))\n",
    "y = int(input(\"Enter no of columns: \"))\n",
    "mat = []\n",
    "for i in range(x):\n",
    "    row = []\n",
    "    for j in range(y):\n",
    "        row.append(i*j)\n",
    "    mat.append(row)\n",
    "    print(row)\n",
    "print(mat)"
   ]
  },
  {
   "cell_type": "markdown",
   "id": "a8e466de",
   "metadata": {},
   "source": [
    "# Question 3:                                                                                                                 Write a program that accepts a comma separated sequence of words as input and prints                                                                                                                 thewords in a comma-separated sequence after sorting them alphabetically.\n",
    "Suppose the following input is supplied to the program:\n",
    "without,hello,bag,world\n",
    "Then, the output should be:\n",
    "bag,hello,without,world"
   ]
  },
  {
   "cell_type": "code",
   "execution_count": 4,
   "id": "c6fb17b7",
   "metadata": {},
   "outputs": [
    {
     "name": "stdout",
     "output_type": "stream",
     "text": [
      "Enter values:\n",
      "without,hello,bag,world\n",
      "bag,hello,without,world,"
     ]
    }
   ],
   "source": [
    "strings = [str(i) for i in input(\"Enter values:\\n\").split(',')]\n",
    "strings.sort()\n",
    "for k in strings:\n",
    "    print(k, end = \",\")"
   ]
  },
  {
   "cell_type": "markdown",
   "id": "2daa5cb4",
   "metadata": {},
   "source": [
    "# Question 4:                                                                                                            Write a program that accepts a sequence of whitespace separated words as input and prints  the words after removing all duplicate words and sorting them alphanumerically.\n"
   ]
  },
  {
   "cell_type": "code",
   "execution_count": 7,
   "id": "a05294c3",
   "metadata": {},
   "outputs": [
    {
     "name": "stdout",
     "output_type": "stream",
     "text": [
      "Enter words:\n",
      "hello world and practice makes perfect and hello world again\n",
      "\n",
      "Alphanumerically sorted words are as follows:\n",
      "again and hello makes perfect practice world "
     ]
    }
   ],
   "source": [
    "words = [str(i) for i in input(\"Enter words:\\n\").split(' ')]\n",
    "words.sort()\n",
    "c = []\n",
    "for k in words:\n",
    "    c.append(k)\n",
    "#print(c)\n",
    "alphanum = []\n",
    "for i in c:\n",
    "    if i not in alphanum:\n",
    "        alphanum.append(i)\n",
    "print()\n",
    "print(\"Alphanumerically sorted words are as follows:\")\n",
    "for j in alphanum:\n",
    "    print(j,end = \" \")"
   ]
  },
  {
   "cell_type": "markdown",
   "id": "cfec3c19",
   "metadata": {},
   "source": [
    "# Question 5:  Write a program that accepts a sentence and calculate the number of letters and digits.                                                                              Suppose the following input is supplied to the program:   hello world! 123   Then, the output should be:   LETTERS 10"
   ]
  },
  {
   "cell_type": "code",
   "execution_count": 8,
   "id": "158eea43",
   "metadata": {},
   "outputs": [
    {
     "name": "stdout",
     "output_type": "stream",
     "text": [
      "Enter sentense: hello world! 123\n",
      "LETTERS 10 \n",
      " DIGITS 3\n"
     ]
    }
   ],
   "source": [
    "sentence = str(input(\"Enter sentense: \"))\n",
    "letters = 0\n",
    "digits = 0\n",
    "\n",
    "for i in sentence:\n",
    "    if i.isalpha():\n",
    "        letters = letters+1\n",
    "    elif i.isdigit():\n",
    "        digits = digits+1\n",
    "    else:\n",
    "        pass\n",
    "     \n",
    "print(\"LETTERS {} \\n DIGITS {}\".format(letters,digits))"
   ]
  },
  {
   "cell_type": "markdown",
   "id": "3dc313b9",
   "metadata": {},
   "source": [
    "# Question 6:  A website requires the users to input username and password to register.  Write a program to check the validity of password input by users. Following are the criteria for checking the password:"
   ]
  },
  {
   "cell_type": "code",
   "execution_count": 9,
   "id": "49cb934e",
   "metadata": {},
   "outputs": [
    {
     "name": "stdout",
     "output_type": "stream",
     "text": [
      "Enter passwords:\n",
      "ABd1234@1,a F1#,2w3E*,2We3345\n",
      "\n",
      "Correct password is: \n",
      "ABd1234@1 "
     ]
    }
   ],
   "source": [
    "passwords = [str(i) for i in input(\"Enter passwords:\\n\").split(\",\")]\n",
    "spl_char = [\"$\",\"#\",\"@\"]\n",
    "correctpass = []\n",
    "for i in passwords:\n",
    "    if (len(i)<6 or len(i)>12):\n",
    "        continue\n",
    "    if (i.isupper() or i.islower()):\n",
    "        continue\n",
    "    num = any(j.isdigit() for j in i)\n",
    "    if (not num):\n",
    "        continue\n",
    "    spl = any(j in spl_char for j in i)\n",
    "    if (not spl):\n",
    "        continue\n",
    "    \n",
    "    correctpass.append(i)\n",
    "print()\n",
    "print(\"Correct password is: \")\n",
    "for k in correctpass:\n",
    "    print(k,end = \" \")"
   ]
  }
 ],
 "metadata": {
  "kernelspec": {
   "display_name": "Python 3",
   "language": "python",
   "name": "python3"
  },
  "language_info": {
   "codemirror_mode": {
    "name": "ipython",
    "version": 3
   },
   "file_extension": ".py",
   "mimetype": "text/x-python",
   "name": "python",
   "nbconvert_exporter": "python",
   "pygments_lexer": "ipython3",
   "version": "3.8.8"
  }
 },
 "nbformat": 4,
 "nbformat_minor": 5
}
