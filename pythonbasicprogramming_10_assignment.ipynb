{
 "cells": [
  {
   "cell_type": "markdown",
   "id": "a703a5e8",
   "metadata": {},
   "source": [
    "# 1. Write a Python program to find sum of elements in list?"
   ]
  },
  {
   "cell_type": "code",
   "execution_count": 1,
   "id": "25cc20b1",
   "metadata": {},
   "outputs": [],
   "source": [
    "l = [1,2,3,4,5,6]"
   ]
  },
  {
   "cell_type": "code",
   "execution_count": 7,
   "id": "7fe9149d",
   "metadata": {},
   "outputs": [
    {
     "name": "stdout",
     "output_type": "stream",
     "text": [
      "21\n"
     ]
    }
   ],
   "source": [
    "sum = 0\n",
    "for i in l:\n",
    "    sum = sum+i\n",
    "print(sum)\n",
    "    "
   ]
  },
  {
   "cell_type": "markdown",
   "id": "51a5b7ec",
   "metadata": {},
   "source": [
    "# 2. Write a Python program to Multiply all numbers in the list?\n"
   ]
  },
  {
   "cell_type": "code",
   "execution_count": 8,
   "id": "8423e54d",
   "metadata": {},
   "outputs": [
    {
     "name": "stdout",
     "output_type": "stream",
     "text": [
      "720\n"
     ]
    }
   ],
   "source": [
    "m = 1\n",
    "for i in l:\n",
    "    m = m*i\n",
    "print(m)"
   ]
  },
  {
   "cell_type": "markdown",
   "id": "0863cada",
   "metadata": {},
   "source": [
    "# 3. Write a Python program to find smallest number in a list?\n"
   ]
  },
  {
   "cell_type": "code",
   "execution_count": 9,
   "id": "d03d6be3",
   "metadata": {},
   "outputs": [
    {
     "name": "stdout",
     "output_type": "stream",
     "text": [
      "3\n"
     ]
    }
   ],
   "source": [
    "L = [24,84,56,3,7,6,15,2426,343]\n",
    "L.sort()\n",
    "print(L[0])"
   ]
  },
  {
   "cell_type": "markdown",
   "id": "9684a640",
   "metadata": {},
   "source": [
    "# 4. Write a Python program to find largest number in a list?\n"
   ]
  },
  {
   "cell_type": "code",
   "execution_count": 10,
   "id": "934752b6",
   "metadata": {},
   "outputs": [
    {
     "name": "stdout",
     "output_type": "stream",
     "text": [
      "2426\n"
     ]
    }
   ],
   "source": [
    "L.sort()\n",
    "print(L[-1])"
   ]
  },
  {
   "cell_type": "markdown",
   "id": "6e7088bd",
   "metadata": {},
   "source": [
    "# 5. Write a Python program to find second largest number in a list?\n"
   ]
  },
  {
   "cell_type": "code",
   "execution_count": 12,
   "id": "ea2980c5",
   "metadata": {},
   "outputs": [
    {
     "name": "stdout",
     "output_type": "stream",
     "text": [
      "343\n"
     ]
    }
   ],
   "source": [
    "L.sort()\n",
    "print(L[-2])"
   ]
  },
  {
   "cell_type": "markdown",
   "id": "a289ccc2",
   "metadata": {},
   "source": [
    "# 6. Write a Python program to find N largest elements from a list?"
   ]
  },
  {
   "cell_type": "code",
   "execution_count": 14,
   "id": "afa85b33",
   "metadata": {},
   "outputs": [],
   "source": [
    "def nthlargest(n):\n",
    "    L.sort()\n",
    "    print(\"{}th largest number is {}\".format(n, L[-n]))"
   ]
  },
  {
   "cell_type": "code",
   "execution_count": 15,
   "id": "73dd8866",
   "metadata": {},
   "outputs": [
    {
     "name": "stdout",
     "output_type": "stream",
     "text": [
      "3th largest number is 84\n"
     ]
    }
   ],
   "source": [
    "nthlargest(3)"
   ]
  },
  {
   "cell_type": "markdown",
   "id": "e41017fd",
   "metadata": {},
   "source": [
    "# 7. Write a Python program to print even numbers in a list?\n"
   ]
  },
  {
   "cell_type": "code",
   "execution_count": 16,
   "id": "bb14855c",
   "metadata": {},
   "outputs": [
    {
     "name": "stdout",
     "output_type": "stream",
     "text": [
      "[6, 24, 56, 84, 2426]\n"
     ]
    }
   ],
   "source": [
    "even = []\n",
    "for i in L:\n",
    "    if i%2==0:\n",
    "        even.append(i)\n",
    "print(even)"
   ]
  },
  {
   "cell_type": "markdown",
   "id": "19e1d1d6",
   "metadata": {},
   "source": [
    "# 8. Write a Python program to print odd numbers in a List?\n"
   ]
  },
  {
   "cell_type": "code",
   "execution_count": 18,
   "id": "63a60eae",
   "metadata": {},
   "outputs": [
    {
     "name": "stdout",
     "output_type": "stream",
     "text": [
      "[3, 7, 15, 343]\n"
     ]
    }
   ],
   "source": [
    "odd = []\n",
    "for i in L:\n",
    "    if i%2!=0:\n",
    "        odd.append(i)\n",
    "print(odd)"
   ]
  },
  {
   "cell_type": "markdown",
   "id": "cd8e8cfa",
   "metadata": {},
   "source": [
    "# 9. Write a Python program to Remove empty List from List?"
   ]
  },
  {
   "cell_type": "code",
   "execution_count": 20,
   "id": "3632b6c3",
   "metadata": {
    "scrolled": true
   },
   "outputs": [
    {
     "name": "stdout",
     "output_type": "stream",
     "text": [
      "[123, 2, 3, [1, 2, 3]]\n"
     ]
    }
   ],
   "source": [
    "l = [[],123,2,3,[1,2,3],[]]\n",
    "for i in l:\n",
    "    if i==[]:\n",
    "        l.remove(i)\n",
    "print(l)"
   ]
  },
  {
   "cell_type": "markdown",
   "id": "960d1185",
   "metadata": {},
   "source": [
    "# 10. Write a Python program to Cloning or Copying a list?\n"
   ]
  },
  {
   "cell_type": "code",
   "execution_count": 24,
   "id": "acaf46d7",
   "metadata": {},
   "outputs": [],
   "source": [
    "def cloning(l):\n",
    "    copy = []\n",
    "    for i in l:\n",
    "        copy.append(i)\n",
    "    print(\"original list : {}\\nCloned List: {}\".format(l,copy))\n"
   ]
  },
  {
   "cell_type": "code",
   "execution_count": 25,
   "id": "932a91ce",
   "metadata": {},
   "outputs": [
    {
     "name": "stdout",
     "output_type": "stream",
     "text": [
      "original list : [123, 2, 3, [1, 2, 3]]\n",
      "Cloned List: [123, 2, 3, [1, 2, 3]]\n"
     ]
    }
   ],
   "source": [
    "cloning(l)"
   ]
  },
  {
   "cell_type": "markdown",
   "id": "e219f034",
   "metadata": {},
   "source": [
    "# 11. Write a Python program to Count occurrences of an element in a list?\n"
   ]
  },
  {
   "cell_type": "code",
   "execution_count": 29,
   "id": "44f8981f",
   "metadata": {},
   "outputs": [
    {
     "name": "stdout",
     "output_type": "stream",
     "text": [
      "10 has occured 3 times\n"
     ]
    }
   ],
   "source": [
    "l = [10,20,30,10,20,30,10]\n",
    "element = 10\n",
    "count = 0\n",
    "for i in l:\n",
    "    if element == i:\n",
    "        count+=1\n",
    "print(\"{} has occured {} times\".format(element,count))"
   ]
  },
  {
   "cell_type": "code",
   "execution_count": null,
   "id": "bdaa902c",
   "metadata": {},
   "outputs": [],
   "source": []
  }
 ],
 "metadata": {
  "kernelspec": {
   "display_name": "Python 3",
   "language": "python",
   "name": "python3"
  },
  "language_info": {
   "codemirror_mode": {
    "name": "ipython",
    "version": 3
   },
   "file_extension": ".py",
   "mimetype": "text/x-python",
   "name": "python",
   "nbconvert_exporter": "python",
   "pygments_lexer": "ipython3",
   "version": "3.8.8"
  }
 },
 "nbformat": 4,
 "nbformat_minor": 5
}
