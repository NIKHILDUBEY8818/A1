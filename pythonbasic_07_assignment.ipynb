{
 "cells": [
  {
   "cell_type": "markdown",
   "id": "ff669c99",
   "metadata": {},
   "source": [
    "# 1. What is the name of the feature responsible for generating Regex objects?\n"
   ]
  },
  {
   "cell_type": "code",
   "execution_count": null,
   "id": "8ac1feb4",
   "metadata": {},
   "outputs": [],
   "source": [
    "RE MODULE"
   ]
  },
  {
   "cell_type": "markdown",
   "id": "3fa32043",
   "metadata": {},
   "source": [
    "# 2. Why do raw strings often appear in Regex objects?\n"
   ]
  },
  {
   "cell_type": "code",
   "execution_count": null,
   "id": "fa6a8deb",
   "metadata": {},
   "outputs": [],
   "source": [
    "raw strings appear in regex objects so that backslashes do not have to be escaped. "
   ]
  },
  {
   "cell_type": "markdown",
   "id": "a37df1a6",
   "metadata": {},
   "source": [
    "# 3. What is the return value of the search() method?\n"
   ]
  },
  {
   "cell_type": "code",
   "execution_count": null,
   "id": "8b57a2c7",
   "metadata": {},
   "outputs": [],
   "source": [
    "if it finds the pattern then it returns match object else none."
   ]
  },
  {
   "cell_type": "markdown",
   "id": "ef47003b",
   "metadata": {},
   "source": [
    "# 4. From a Match item, how do you get the actual strings that match the pattern?"
   ]
  },
  {
   "cell_type": "code",
   "execution_count": null,
   "id": "55e1cda7",
   "metadata": {},
   "outputs": [],
   "source": [
    "group() method returns match the pattern."
   ]
  },
  {
   "cell_type": "markdown",
   "id": "e335e89e",
   "metadata": {},
   "source": [
    "#  5. In the regex which created from the r'(\\d\\d\\d)-(\\d\\d\\d-\\d\\d\\d\\d)', what does group zero cover? Group 2? Group 1?\n"
   ]
  },
  {
   "cell_type": "code",
   "execution_count": null,
   "id": "3622d9b5",
   "metadata": {},
   "outputs": [],
   "source": [
    "group 0 covers whole part\n",
    "group 1 covers first part\n",
    "group 2 covers second part\n"
   ]
  },
  {
   "cell_type": "markdown",
   "id": "3b5576c8",
   "metadata": {},
   "source": [
    "# 6. In standard expression syntax, parentheses and intervals have distinct meanings. How can you tell a regex that you want it to fit real parentheses and periods?\n"
   ]
  },
  {
   "cell_type": "code",
   "execution_count": null,
   "id": "17c68c91",
   "metadata": {},
   "outputs": [],
   "source": [
    "\\., \\(, and \\)"
   ]
  },
  {
   "cell_type": "markdown",
   "id": "a5e9293c",
   "metadata": {},
   "source": [
    "# 7. The findall() method returns a string list or a list of string tuples. What causes it to return one of the two options?\n"
   ]
  },
  {
   "cell_type": "code",
   "execution_count": null,
   "id": "8e1f1ef0",
   "metadata": {},
   "outputs": [],
   "source": [
    "when we enclose our pattern inside \"()\" it will return tuple\n",
    "when we enclose our pattern without using \"()\" it will return tuple"
   ]
  },
  {
   "cell_type": "markdown",
   "id": "3537b42e",
   "metadata": {},
   "source": [
    "# 8. In standard expressions, what does the | character mean?\n"
   ]
  },
  {
   "cell_type": "code",
   "execution_count": null,
   "id": "1ccb976c",
   "metadata": {},
   "outputs": [],
   "source": [
    "In standard ecpression \" | \" means  Alternation"
   ]
  },
  {
   "cell_type": "markdown",
   "id": "34abdd61",
   "metadata": {},
   "source": [
    "# 9. In regular expressions, what does the ? character stand for?\n"
   ]
  },
  {
   "cell_type": "code",
   "execution_count": null,
   "id": "7faefe58",
   "metadata": {},
   "outputs": [],
   "source": [
    "preceding group"
   ]
  },
  {
   "cell_type": "markdown",
   "id": "88558214",
   "metadata": {},
   "source": [
    "# 10.In regular expressions, what is the difference between the + and * characters?\n"
   ]
  },
  {
   "cell_type": "code",
   "execution_count": null,
   "id": "6e5aa0df",
   "metadata": {},
   "outputs": [],
   "source": [
    "+ means one or more\n",
    "* means zero or more"
   ]
  },
  {
   "cell_type": "markdown",
   "id": "914caabb",
   "metadata": {},
   "source": [
    "# 11. What is the difference between {4} and {4,5} in regular expression?\n"
   ]
  },
  {
   "cell_type": "code",
   "execution_count": null,
   "id": "bd44d4da",
   "metadata": {},
   "outputs": [],
   "source": [
    "{4,5} Matches the expression to its left 4 to 5 times, not less than.\n",
    "{4} Matches the expression to its left 4 times, and not less."
   ]
  },
  {
   "cell_type": "markdown",
   "id": "b61e64f5",
   "metadata": {},
   "source": [
    "# 12. What do you mean by the \\d, \\w, and \\s shorthand character classes signify in regular expressions?\n"
   ]
  },
  {
   "cell_type": "code",
   "execution_count": null,
   "id": "4ad87ae4",
   "metadata": {},
   "outputs": [],
   "source": [
    "\\d Matches digits, which means 0-9.\n",
    "\\w Matches alphanumeric characters, which means a-z, A-Z, and 0-9. It also matches the underscore, _.\n",
    "\\s Matches whitespace characters, which include the \\t, \\n, \\r, and space characters."
   ]
  },
  {
   "cell_type": "markdown",
   "id": "09ad8fea",
   "metadata": {},
   "source": [
    "# 13. What do means by \\D, \\W, and \\S shorthand character classes signify in regular expressions?\n"
   ]
  },
  {
   "cell_type": "code",
   "execution_count": null,
   "id": "34ffcc7d",
   "metadata": {},
   "outputs": [],
   "source": [
    "\\D Matches any non-digits. \n",
    "\\W Matches any non-word character.\n",
    "\\S Matches non-whitespace characters."
   ]
  },
  {
   "cell_type": "markdown",
   "id": "beb9f88b",
   "metadata": {},
   "source": [
    "#  14. What is the difference between . ? and . ?\n"
   ]
  },
  {
   "cell_type": "code",
   "execution_count": null,
   "id": "fe8a7c59",
   "metadata": {},
   "outputs": [],
   "source": [
    ".*? adds ?, a quantifier that matches the preceding element (the \".*\" here) 0 or 1 times.\n",
    " .* adds *, a quantifier that matches the preceding element (the \".\" here) 0 or more times."
   ]
  },
  {
   "cell_type": "markdown",
   "id": "87602c74",
   "metadata": {},
   "source": [
    "# 15. What is the syntax for matching both numbers and lowercase letters with a character class?\n"
   ]
  },
  {
   "cell_type": "code",
   "execution_count": null,
   "id": "cc9b808e",
   "metadata": {},
   "outputs": [],
   "source": [
    "import re"
   ]
  },
  {
   "cell_type": "markdown",
   "id": "e96925d1",
   "metadata": {},
   "source": [
    "# 16. What is the procedure for making a normal expression in regax case insensitive?\n"
   ]
  },
  {
   "cell_type": "code",
   "execution_count": null,
   "id": "ea4502e3",
   "metadata": {},
   "outputs": [],
   "source": [
    "By using re.IGNORECASE "
   ]
  },
  {
   "cell_type": "markdown",
   "id": "c2217c48",
   "metadata": {},
   "source": [
    "# 17. What does the . character normally match? What does it match if re.DOTALL is passed as 2nd argument in re.compile()?\n"
   ]
  },
  {
   "cell_type": "code",
   "execution_count": null,
   "id": "efbcbec6",
   "metadata": {},
   "outputs": [],
   "source": [
    "By passing re. DOTALL as the second argument to re. compile() , you can make the dot character match all characters,  \n",
    "including the newline character."
   ]
  },
  {
   "cell_type": "markdown",
   "id": "22d43b89",
   "metadata": {},
   "source": [
    "# 18. If numReg = re.compile(r'\\d+'), what will numRegex.sub('X', '11 drummers, 10 pipers, five rings, 4 hen') return?\n"
   ]
  },
  {
   "cell_type": "code",
   "execution_count": null,
   "id": "bf4b9670",
   "metadata": {},
   "outputs": [],
   "source": [
    "'X drummers, X pipers, five rings, X hens'"
   ]
  },
  {
   "cell_type": "markdown",
   "id": "d8b72572",
   "metadata": {},
   "source": [
    "# 19. What does passing re.VERBOSE as the 2nd argument to re.compile() allow to do?\n"
   ]
  },
  {
   "cell_type": "code",
   "execution_count": null,
   "id": "6d95f06a",
   "metadata": {},
   "outputs": [],
   "source": [
    "It add whitespace and comments to string passed to re.compile()."
   ]
  }
 ],
 "metadata": {
  "kernelspec": {
   "display_name": "Python 3",
   "language": "python",
   "name": "python3"
  },
  "language_info": {
   "codemirror_mode": {
    "name": "ipython",
    "version": 3
   },
   "file_extension": ".py",
   "mimetype": "text/x-python",
   "name": "python",
   "nbconvert_exporter": "python",
   "pygments_lexer": "ipython3",
   "version": "3.8.8"
  }
 },
 "nbformat": 4,
 "nbformat_minor": 5
}
