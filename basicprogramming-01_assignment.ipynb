{
 "cells": [
  {
   "cell_type": "markdown",
   "id": "b06cb939",
   "metadata": {},
   "source": [
    "# Q.1 Write a Python program to print \"Hello Python\"?"
   ]
  },
  {
   "cell_type": "code",
   "execution_count": 10,
   "id": "835c5536",
   "metadata": {},
   "outputs": [
    {
     "name": "stdout",
     "output_type": "stream",
     "text": [
      " Hello Python \n"
     ]
    }
   ],
   "source": [
    "a = \" Hello Python \"\n",
    "print(a)"
   ]
  },
  {
   "cell_type": "markdown",
   "id": "a93a1e90",
   "metadata": {},
   "source": [
    "# Q.2 Write a Python program to do arithmetical operations addition and division.?\n"
   ]
  },
  {
   "cell_type": "code",
   "execution_count": 18,
   "id": "406291c9",
   "metadata": {},
   "outputs": [
    {
     "name": "stdout",
     "output_type": "stream",
     "text": [
      "Enter first number: 10\n",
      "Enter second number: 20\n",
      "The sum of 10 and 20 is 30.0\n",
      "The division of 10 and 20 is 0.5\n"
     ]
    }
   ],
   "source": [
    "# Store input numbers:  \n",
    "num1 = input('Enter first number: ')  \n",
    "num2 = input('Enter second number: ')  \n",
    "  \n",
    "# Add two numbers  \n",
    "sum = float(num1) + float(num2)\n",
    "\n",
    "#Divide two numbers  \n",
    "div = float(num1) / float(num2)\n",
    "\n",
    "# Display the sum  \n",
    "print('The sum of {0} and {1} is {2}'.format(num1, num2, sum))  \n",
    "  \n",
    "# Display the division  \n",
    "print('The division of {0} and {1} is {2}'.format(num1, num2, div))"
   ]
  },
  {
   "cell_type": "markdown",
   "id": "750c02d9",
   "metadata": {},
   "source": [
    "# Q.3 Write a Python program to find the area of a triangle?"
   ]
  },
  {
   "cell_type": "code",
   "execution_count": 19,
   "id": "c7c54200",
   "metadata": {},
   "outputs": [
    {
     "name": "stdout",
     "output_type": "stream",
     "text": [
      "25.0\n"
     ]
    }
   ],
   "source": [
    "def area_of_triangle(base,height):\n",
    "    area = (base*height)/2\n",
    "    print(area)\n",
    "    \n",
    "a = area_of_triangle(10,5)"
   ]
  },
  {
   "cell_type": "markdown",
   "id": "9d173641",
   "metadata": {},
   "source": [
    "# Q.4 Write a Python program to swap two variables?"
   ]
  },
  {
   "cell_type": "code",
   "execution_count": 20,
   "id": "349a61e2",
   "metadata": {},
   "outputs": [
    {
     "name": "stdout",
     "output_type": "stream",
     "text": [
      "Enter num_1: 15\n",
      "15\n",
      "Enter num_2: 25\n",
      "25\n",
      "Value of x: 25\n",
      "Value of y: 15\n"
     ]
    }
   ],
   "source": [
    "x = input(\"Enter num_1: \")\n",
    "print(x)\n",
    "y = input(\"Enter num_2: \")\n",
    "print(y)\n",
    "\n",
    "temp = x\n",
    "x = y\n",
    "y = temp\n",
    "\n",
    "print(\"Value of x:\", x)\n",
    "print(\"Value of y:\", y)"
   ]
  },
  {
   "cell_type": "markdown",
   "id": "41c70f41",
   "metadata": {},
   "source": [
    "# Q.5 Write a Python program to generate a random number?"
   ]
  },
  {
   "cell_type": "code",
   "execution_count": 21,
   "id": "2bf8433a",
   "metadata": {},
   "outputs": [
    {
     "name": "stdout",
     "output_type": "stream",
     "text": [
      "0.41300182805223773\n"
     ]
    }
   ],
   "source": [
    "import random\n",
    "rndno = random.random()\n",
    "print(rndno)"
   ]
  },
  {
   "cell_type": "code",
   "execution_count": null,
   "id": "599d5b00",
   "metadata": {},
   "outputs": [],
   "source": []
  }
 ],
 "metadata": {
  "kernelspec": {
   "display_name": "Python 3",
   "language": "python",
   "name": "python3"
  },
  "language_info": {
   "codemirror_mode": {
    "name": "ipython",
    "version": 3
   },
   "file_extension": ".py",
   "mimetype": "text/x-python",
   "name": "python",
   "nbconvert_exporter": "python",
   "pygments_lexer": "ipython3",
   "version": "3.8.8"
  }
 },
 "nbformat": 4,
 "nbformat_minor": 5
}
