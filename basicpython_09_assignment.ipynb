{
 "cells": [
  {
   "cell_type": "markdown",
   "id": "7b5d5d1a",
   "metadata": {},
   "source": [
    "# 1. To what does a relative path refer?"
   ]
  },
  {
   "cell_type": "code",
   "execution_count": null,
   "id": "cc73fcf2",
   "metadata": {},
   "outputs": [],
   "source": [
    "Relative path shows current working directory path."
   ]
  },
  {
   "cell_type": "markdown",
   "id": "ef67f0aa",
   "metadata": {},
   "source": [
    "# 2. What does an absolute path start with your operating system?\n"
   ]
  },
  {
   "cell_type": "code",
   "execution_count": null,
   "id": "b1af9643",
   "metadata": {},
   "outputs": [],
   "source": [
    "Absolute path always starts with rootdi directory."
   ]
  },
  {
   "cell_type": "markdown",
   "id": "067b20fa",
   "metadata": {},
   "source": [
    "# 3. What do the functions os.getcwd() and os.chdir() do?\n"
   ]
  },
  {
   "cell_type": "code",
   "execution_count": null,
   "id": "446dac05",
   "metadata": {},
   "outputs": [],
   "source": [
    "os.chdir() performs change directory\n",
    "os.getcwd() gives current working directory"
   ]
  },
  {
   "cell_type": "markdown",
   "id": "5c849a42",
   "metadata": {},
   "source": [
    "# 4. What are the . and .. folders?"
   ]
  },
  {
   "cell_type": "code",
   "execution_count": null,
   "id": "32fbeaf2",
   "metadata": {},
   "outputs": [],
   "source": [
    "(.) = this directory\n",
    "(..)= parent directory"
   ]
  },
  {
   "cell_type": "markdown",
   "id": "0de5ff94",
   "metadata": {},
   "source": [
    "# 5. In C:\\bacon\\eggs\\spam.txt, which part is the dir name, and which part is the base name?"
   ]
  },
  {
   "cell_type": "code",
   "execution_count": null,
   "id": "6d403401",
   "metadata": {},
   "outputs": [],
   "source": [
    "C:\\bacon\\eggs --> dir name\n",
    "\n",
    "spam.txt --> base name"
   ]
  },
  {
   "cell_type": "markdown",
   "id": "1fab56ea",
   "metadata": {},
   "source": [
    "# 6. What are the three “mode” arguments that can be passed to the open() function?"
   ]
  },
  {
   "cell_type": "code",
   "execution_count": null,
   "id": "8ebc555a",
   "metadata": {},
   "outputs": [],
   "source": [
    "Three mode arguments are:\n",
    "    1. 'r' --> open for reading in text mode.\n",
    "    2. 'w' --> open for writing.\n",
    "    3. 'a' --> open for appending."
   ]
  },
  {
   "cell_type": "markdown",
   "id": "a4bf7bea",
   "metadata": {},
   "source": [
    "# 7. What happens if an existing file is opened in write mode?"
   ]
  },
  {
   "cell_type": "code",
   "execution_count": null,
   "id": "b0b7ac37",
   "metadata": {},
   "outputs": [],
   "source": [
    "when an existing file is opened in write mode previous content is erased and file is treated as \n",
    "new empty file."
   ]
  },
  {
   "cell_type": "markdown",
   "id": "6be8cac6",
   "metadata": {},
   "source": [
    "# 8. How do you tell the difference between read() and readlines()?"
   ]
  },
  {
   "cell_type": "code",
   "execution_count": null,
   "id": "d3a16ce8",
   "metadata": {},
   "outputs": [],
   "source": [
    "read()      --> it iterates over each character.\n",
    "readlines() --> read only single line of the file."
   ]
  },
  {
   "cell_type": "markdown",
   "id": "60ce058a",
   "metadata": {},
   "source": [
    "# 9. What data structure does a shelf value resemble?"
   ]
  },
  {
   "cell_type": "code",
   "execution_count": null,
   "id": "95d42982",
   "metadata": {},
   "outputs": [],
   "source": [
    "It contains key and values it represents dictionary."
   ]
  }
 ],
 "metadata": {
  "kernelspec": {
   "display_name": "Python 3",
   "language": "python",
   "name": "python3"
  },
  "language_info": {
   "codemirror_mode": {
    "name": "ipython",
    "version": 3
   },
   "file_extension": ".py",
   "mimetype": "text/x-python",
   "name": "python",
   "nbconvert_exporter": "python",
   "pygments_lexer": "ipython3",
   "version": "3.8.8"
  }
 },
 "nbformat": 4,
 "nbformat_minor": 5
}
