{
 "cells": [
  {
   "cell_type": "markdown",
   "id": "f02e755d",
   "metadata": {},
   "source": [
    "#  1. Why are functons advantageous to have in your programs?"
   ]
  },
  {
   "cell_type": "code",
   "execution_count": null,
   "id": "f7a184fb",
   "metadata": {},
   "outputs": [],
   "source": [
    "It helps to divide the large programs into small groups so that we can read the code , and debug the program faster and better."
   ]
  },
  {
   "cell_type": "markdown",
   "id": "6d3b0209",
   "metadata": {},
   "source": [
    "# 2. When does the code in a function run: when it's specified or when it's called?"
   ]
  },
  {
   "cell_type": "code",
   "execution_count": null,
   "id": "d91425a7",
   "metadata": {},
   "outputs": [],
   "source": [
    "Code in a function run when it is called."
   ]
  },
  {
   "cell_type": "markdown",
   "id": "ed31bc13",
   "metadata": {},
   "source": [
    "# 3. What statement creates a function?"
   ]
  },
  {
   "cell_type": "code",
   "execution_count": null,
   "id": "9ab73a34",
   "metadata": {},
   "outputs": [],
   "source": [
    "def function_name(arguments):\n",
    "    return arguments"
   ]
  },
  {
   "cell_type": "markdown",
   "id": "a6417963",
   "metadata": {},
   "source": [
    "# 4. What is the difference between a function and a function call?\n"
   ]
  },
  {
   "cell_type": "code",
   "execution_count": null,
   "id": "350ee6ae",
   "metadata": {},
   "outputs": [],
   "source": [
    "A function call is a call that passes control to a function.\n",
    "A function is a set of statements that performs a specific task."
   ]
  },
  {
   "cell_type": "markdown",
   "id": "42f19c6e",
   "metadata": {},
   "source": [
    " # 5. How many global scopes are there in a Python program ? How many local scopes?"
   ]
  },
  {
   "cell_type": "code",
   "execution_count": null,
   "id": "22130279",
   "metadata": {},
   "outputs": [],
   "source": [
    "Global scope - There is only one global scope in a python program. \n",
    "Local scope - Variable crearted inside a function can only be used in that space so there can be many local scope."
   ]
  },
  {
   "cell_type": "markdown",
   "id": "d265e484",
   "metadata": {},
   "source": [
    "# 6. What happens to variables in a local scope when the function call returns ?"
   ]
  },
  {
   "cell_type": "code",
   "execution_count": null,
   "id": "12fd5a27",
   "metadata": {},
   "outputs": [],
   "source": [
    "In a local space , variable is confined to space of function can only be used in that function , \n",
    "therefore retains its value untill next time function is called .\n",
    "\n"
   ]
  },
  {
   "cell_type": "markdown",
   "id": "fd6f18a3",
   "metadata": {},
   "source": [
    "# 7. What is the concept of a return value? Is it possible to have a return value in an expression?\n"
   ]
  },
  {
   "cell_type": "code",
   "execution_count": null,
   "id": "7c7783cb",
   "metadata": {},
   "outputs": [],
   "source": [
    "The Python return statement is a special statement that you can use inside a function ,\n",
    "or method to send the function’s result back to the caller. Yes , it is possible to have a return value in an expression."
   ]
  },
  {
   "cell_type": "markdown",
   "id": "c7228d0d",
   "metadata": {},
   "source": [
    "# 8. If a function does not have a return statement, what is the return value of a call to that function?\n"
   ]
  },
  {
   "cell_type": "code",
   "execution_count": null,
   "id": "7814500c",
   "metadata": {},
   "outputs": [],
   "source": [
    "It will perform the function but will not return without return statement."
   ]
  },
  {
   "cell_type": "markdown",
   "id": "26933030",
   "metadata": {},
   "source": [
    "# 9. How do you make a function variable refer to the global variable?"
   ]
  },
  {
   "cell_type": "code",
   "execution_count": null,
   "id": "1634bcde",
   "metadata": {},
   "outputs": [],
   "source": [
    "Global variable is free to be called in any function and also be reused.\n",
    "Therefore to refer a function variable to global variable we use global keyword to declare which variable are global."
   ]
  },
  {
   "cell_type": "markdown",
   "id": "ab92b442",
   "metadata": {},
   "source": [
    "# 10. What is the data type of None?"
   ]
  },
  {
   "cell_type": "code",
   "execution_count": 2,
   "id": "35fb5a0b",
   "metadata": {},
   "outputs": [
    {
     "data": {
      "text/plain": [
       "NoneType"
      ]
     },
     "execution_count": 2,
     "metadata": {},
     "output_type": "execute_result"
    }
   ],
   "source": [
    "type(None) # it is null neither Zero nor any other value"
   ]
  },
  {
   "cell_type": "markdown",
   "id": "0f880d33",
   "metadata": {},
   "source": [
    "# 11. What does the sentence import areallyourpetsnamederic do?"
   ]
  },
  {
   "cell_type": "code",
   "execution_count": null,
   "id": "053bfa00",
   "metadata": {},
   "outputs": [],
   "source": [
    "it will import areallyourpetnamederic module."
   ]
  },
  {
   "cell_type": "markdown",
   "id": "ced7d617",
   "metadata": {},
   "source": [
    "# 12. If you had a bacon() feature in a spam module, what would you call it after importing spam?"
   ]
  },
  {
   "cell_type": "code",
   "execution_count": null,
   "id": "e60f62e6",
   "metadata": {},
   "outputs": [],
   "source": [
    "spam.bacon()"
   ]
  },
  {
   "cell_type": "markdown",
   "id": "b81caa4f",
   "metadata": {},
   "source": [
    "# 13. What can you do to save a programme from crashing if it encounters an error?"
   ]
  },
  {
   "cell_type": "code",
   "execution_count": null,
   "id": "26bffc7b",
   "metadata": {},
   "outputs": [],
   "source": [
    "Try and Catch"
   ]
  },
  {
   "cell_type": "markdown",
   "id": "e974bece",
   "metadata": {},
   "source": [
    "# 14. What is the purpose of the try clause? What is the purpose of the  except clause?"
   ]
  },
  {
   "cell_type": "code",
   "execution_count": null,
   "id": "887ce1ad",
   "metadata": {},
   "outputs": [],
   "source": [
    "Try and Except statement is used to handle these errors within our code in Python. \n",
    "The try block is used to check some code for errors.\n",
    "Whereas the code inside the except block will execute whenever the program encounters some error in the preceding try block. "
   ]
  }
 ],
 "metadata": {
  "kernelspec": {
   "display_name": "Python 3",
   "language": "python",
   "name": "python3"
  },
  "language_info": {
   "codemirror_mode": {
    "name": "ipython",
    "version": 3
   },
   "file_extension": ".py",
   "mimetype": "text/x-python",
   "name": "python",
   "nbconvert_exporter": "python",
   "pygments_lexer": "ipython3",
   "version": "3.8.8"
  }
 },
 "nbformat": 4,
 "nbformat_minor": 5
}
