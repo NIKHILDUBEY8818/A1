{
 "cells": [
  {
   "cell_type": "markdown",
   "id": "3619d58e",
   "metadata": {},
   "source": [
    "# 1. What are the two values of the Boolean data type? How do you write them?"
   ]
  },
  {
   "cell_type": "code",
   "execution_count": null,
   "id": "84b4cb56",
   "metadata": {},
   "outputs": [],
   "source": [
    "Two Boolean data types are:\n",
    "    1. True\n",
    "    2. False\n",
    "    \n",
    "    1. True == 1\n",
    "    2. False == 0"
   ]
  },
  {
   "cell_type": "markdown",
   "id": "e07c2a8f",
   "metadata": {},
   "source": [
    "# 2. What are the three different types of Boolean operators?\n"
   ]
  },
  {
   "cell_type": "code",
   "execution_count": null,
   "id": "ff959b0f",
   "metadata": {},
   "outputs": [],
   "source": [
    "Three different types of Boolean operators are:\n",
    "    1. and \n",
    "    2. or\n",
    "    3. not"
   ]
  },
  {
   "cell_type": "markdown",
   "id": "acc413a9",
   "metadata": {},
   "source": [
    "# 3. Make a list of each Boolean operator's truth tables (i.e. every possible combination of Boolean values for the operator and what it evaluate ).\n"
   ]
  },
  {
   "cell_type": "code",
   "execution_count": null,
   "id": "2e39f29e",
   "metadata": {},
   "outputs": [],
   "source": [
    "True == 1 and  False == 0\n",
    "    x  y  x and y\n",
    "    0  0     0\n",
    "    0  1     0\n",
    "    1  0     0\n",
    "    1  1     1\n",
    "    \n",
    "    x  y  x or y\n",
    "    0  0     0\n",
    "    0  1     1\n",
    "    1  0     1\n",
    "    1  1     1\n",
    "    "
   ]
  },
  {
   "cell_type": "markdown",
   "id": "dc8d0b1d",
   "metadata": {},
   "source": [
    "## 4. What are the values of the following expressions?"
   ]
  },
  {
   "cell_type": "code",
   "execution_count": 6,
   "id": "cba7ebe8",
   "metadata": {},
   "outputs": [
    {
     "name": "stdout",
     "output_type": "stream",
     "text": [
      "(5 > 4) and (3 == 5)--> False\n",
      "not(5>4)--> False\n",
      "(5>4)or(3==5)--> True\n",
      "not ((5 > 4) or (3 == 5))--> False\n",
      "(True and True) and (True == False)--> False\n",
      "(not False) or (not True)--> True\n"
     ]
    }
   ],
   "source": [
    "print(\"(5 > 4) and (3 == 5)-->\",(5 > 4) and (3 == 5))\n",
    "print(\"not(5>4)-->\",not(5>4))\n",
    "print(\"(5>4)or(3==5)-->\",(5>4)or(3==5))\n",
    "print(\"not ((5 > 4) or (3 == 5))-->\",not ((5 > 4) or (3 == 5)))\n",
    "print(\"(True and True) and (True == False)-->\",(True and True) and (True == False))\n",
    "print(\"(not False) or (not True)-->\",(not False) or (not True))"
   ]
  },
  {
   "cell_type": "markdown",
   "id": "60a8d1ca",
   "metadata": {},
   "source": [
    "### 5. What are the six comparison operators?"
   ]
  },
  {
   "cell_type": "code",
   "execution_count": null,
   "id": "0cda82d1",
   "metadata": {},
   "outputs": [],
   "source": [
    "Six comparison operators are:\n",
    "    1. \">\"    less than\n",
    "    2. \"<\"    greater than\n",
    "    3. \">=\"   less than equal to\n",
    "    4. \"<=\"   grater than equal to\n",
    "    5. \"==\"   equal to\n",
    "    6. \"!=\"   not equal to"
   ]
  },
  {
   "cell_type": "markdown",
   "id": "d9d0ff1f",
   "metadata": {},
   "source": [
    "######   6. How do you tell the difference between the equal to and assignment operators?Describe a  condition and when you would use one ."
   ]
  },
  {
   "cell_type": "code",
   "execution_count": null,
   "id": "b31917ea",
   "metadata": {},
   "outputs": [],
   "source": [
    "1. ==   this is equal to \n",
    "2. =    this is assignment operator "
   ]
  },
  {
   "cell_type": "code",
   "execution_count": 9,
   "id": "e2ef37ea",
   "metadata": {},
   "outputs": [
    {
     "name": "stdout",
     "output_type": "stream",
     "text": [
      "True\n"
     ]
    }
   ],
   "source": [
    "1. #Assignment operator \n",
    "x = 5\n",
    "y = 5\n",
    "\n",
    "2. #Equal to operator :\n",
    "if x==y:\n",
    "    print(\"True\")\n",
    "\n"
   ]
  },
  {
   "cell_type": "markdown",
   "id": "539d2a19",
   "metadata": {},
   "source": [
    "###### 7. Identify the three blocks in this code."
   ]
  },
  {
   "cell_type": "code",
   "execution_count": 11,
   "id": "61db863d",
   "metadata": {},
   "outputs": [
    {
     "name": "stdout",
     "output_type": "stream",
     "text": [
      "spam\n"
     ]
    }
   ],
   "source": [
    "spam = 0\n",
    "if spam == 10:\n",
    "    print(\"eggs\")\n",
    "    if spam > 5:\n",
    "        print(\"bacon\")\n",
    "    else:\n",
    "        print(\"ham\")\n",
    "    print(\"spam\")\n",
    "print(\"spam\")"
   ]
  },
  {
   "cell_type": "markdown",
   "id": "c6e5feb9",
   "metadata": {},
   "source": [
    "# 8. Write code that prints Hello if 1 is stored in spam, prints Howdy if 2 is stored in spam, and prints Greetings!  if  anything else is stored in spam.\n"
   ]
  },
  {
   "cell_type": "code",
   "execution_count": 12,
   "id": "d6d00c8c",
   "metadata": {},
   "outputs": [
    {
     "name": "stdout",
     "output_type": "stream",
     "text": [
      "1\n",
      "Hello\n"
     ]
    }
   ],
   "source": [
    "spam = int(input())\n",
    "if spam == 1:\n",
    "    print(\"Hello\")\n",
    "elif spam == 2:\n",
    "    print(\"Howdy\")\n",
    "else:\n",
    "    print(\"Greetings!\")"
   ]
  },
  {
   "cell_type": "code",
   "execution_count": 13,
   "id": "79e97394",
   "metadata": {},
   "outputs": [
    {
     "name": "stdout",
     "output_type": "stream",
     "text": [
      "2\n",
      "Howdy\n"
     ]
    }
   ],
   "source": [
    "spam = int(input())\n",
    "if spam == 1:\n",
    "    print(\"Hello\")\n",
    "elif spam == 2:\n",
    "    print(\"Howdy\")\n",
    "else:\n",
    "    print(\"Greetings!\")"
   ]
  },
  {
   "cell_type": "code",
   "execution_count": 14,
   "id": "3ee9d7cc",
   "metadata": {},
   "outputs": [
    {
     "name": "stdout",
     "output_type": "stream",
     "text": [
      "3\n",
      "Greetings!\n"
     ]
    }
   ],
   "source": [
    "spam = int(input())\n",
    "if spam == 1:\n",
    "    print(\"Hello\")\n",
    "elif spam == 2:\n",
    "    print(\"Howdy\")\n",
    "else:\n",
    "    print(\"Greetings!\")\n"
   ]
  },
  {
   "cell_type": "markdown",
   "id": "9ca26aa9",
   "metadata": {},
   "source": [
    "# 9.If your programme is stuck in an endless loop, what keys you’ll press?"
   ]
  },
  {
   "cell_type": "code",
   "execution_count": null,
   "id": "6d918c44",
   "metadata": {},
   "outputs": [],
   "source": [
    "Kernel"
   ]
  },
  {
   "cell_type": "markdown",
   "id": "eb230278",
   "metadata": {},
   "source": [
    "# 10. How can you tell the difference between break and continue?"
   ]
  },
  {
   "cell_type": "code",
   "execution_count": 16,
   "id": "2112f29a",
   "metadata": {},
   "outputs": [
    {
     "name": "stdout",
     "output_type": "stream",
     "text": [
      "0\n",
      "1\n",
      "2\n"
     ]
    }
   ],
   "source": [
    "for i in range(20):\n",
    "    if i == 3:\n",
    "        break\n",
    "    print(i)"
   ]
  },
  {
   "cell_type": "code",
   "execution_count": 17,
   "id": "0ed80cb5",
   "metadata": {},
   "outputs": [
    {
     "name": "stdout",
     "output_type": "stream",
     "text": [
      "1\n",
      "2\n",
      "4\n",
      "5\n"
     ]
    }
   ],
   "source": [
    "l = [1,2,3,4,5]\n",
    "for i in l:\n",
    "    if i==3:\n",
    "        continue\n",
    "    print(i)"
   ]
  },
  {
   "cell_type": "markdown",
   "id": "fe58089b",
   "metadata": {},
   "source": [
    "# 11. In a for loop, what is the difference between range(10), range(0, 10), and range(0, 10, 1)?\n"
   ]
  },
  {
   "cell_type": "code",
   "execution_count": null,
   "id": "bcd8b81a",
   "metadata": {},
   "outputs": [],
   "source": [
    "range(10) and range(0,10) are same both are from 0 to 10\n",
    "range(0,10,1) it is starting from 0 upto 9 with increment of 1."
   ]
  },
  {
   "cell_type": "markdown",
   "id": "1ddb11de",
   "metadata": {},
   "source": [
    "# 12. Write a short program that prints the numbers 1 to 10 using a for loop. Then write an equivalent program that print the numbers 1 to 10 using a while loop."
   ]
  },
  {
   "cell_type": "code",
   "execution_count": 19,
   "id": "0f0f82f1",
   "metadata": {},
   "outputs": [
    {
     "name": "stdout",
     "output_type": "stream",
     "text": [
      "1\n",
      "2\n",
      "3\n",
      "4\n",
      "5\n",
      "6\n",
      "7\n",
      "8\n",
      "9\n",
      "10\n"
     ]
    }
   ],
   "source": [
    "#for loop:\n",
    "\n",
    "for i in range(1,11):\n",
    "    print(i)"
   ]
  },
  {
   "cell_type": "code",
   "execution_count": 20,
   "id": "04d242b9",
   "metadata": {},
   "outputs": [
    {
     "name": "stdout",
     "output_type": "stream",
     "text": [
      "1\n",
      "2\n",
      "3\n",
      "4\n",
      "5\n",
      "6\n",
      "7\n",
      "8\n",
      "9\n",
      "10\n"
     ]
    }
   ],
   "source": [
    "#while loop:\n",
    "i = 1\n",
    "while i>0 and i<=10:\n",
    "    print(i)\n",
    "    i = i+1"
   ]
  },
  {
   "cell_type": "markdown",
   "id": "6e2857c8",
   "metadata": {},
   "source": [
    "# 13. If you had a function named bacon() inside a module named spam, how would you call it after importing spam?\n"
   ]
  },
  {
   "cell_type": "code",
   "execution_count": null,
   "id": "b2e06131",
   "metadata": {},
   "outputs": [],
   "source": [
    "from spam import bacon\n",
    "\n",
    "or\n",
    "\n",
    "spam.bacon()"
   ]
  }
 ],
 "metadata": {
  "kernelspec": {
   "display_name": "Python 3",
   "language": "python",
   "name": "python3"
  },
  "language_info": {
   "codemirror_mode": {
    "name": "ipython",
    "version": 3
   },
   "file_extension": ".py",
   "mimetype": "text/x-python",
   "name": "python",
   "nbconvert_exporter": "python",
   "pygments_lexer": "ipython3",
   "version": "3.8.8"
  }
 },
 "nbformat": 4,
 "nbformat_minor": 5
}
