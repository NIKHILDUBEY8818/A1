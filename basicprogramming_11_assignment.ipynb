{
 "cells": [
  {
   "cell_type": "markdown",
   "id": "f4a788c2",
   "metadata": {},
   "source": [
    "# 1. Write a Python program to find words which are greater than given length k?\n"
   ]
  },
  {
   "cell_type": "code",
   "execution_count": 4,
   "id": "e33c0eb3",
   "metadata": {},
   "outputs": [],
   "source": [
    "def greaterthan(sentense):\n",
    "    words = []\n",
    "    split = sentense.split(\" \")\n",
    "    print(split)\n",
    "    k = int(input(\"Enter length: \"))\n",
    "    for i in split:\n",
    "        if len(i)>k:\n",
    "            words.append(i)\n",
    "    return words"
   ]
  },
  {
   "cell_type": "code",
   "execution_count": 6,
   "id": "eb2fddfe",
   "metadata": {},
   "outputs": [
    {
     "name": "stdout",
     "output_type": "stream",
     "text": [
      "['hello', 'my', 'name', 'is', 'nikh']\n",
      "Enter length: 2\n"
     ]
    },
    {
     "data": {
      "text/plain": [
       "['hello', 'name', 'nikh']"
      ]
     },
     "execution_count": 6,
     "metadata": {},
     "output_type": "execute_result"
    }
   ],
   "source": [
    "greaterthan(\"hello my name is nikh\")"
   ]
  },
  {
   "cell_type": "markdown",
   "id": "c72fb66c",
   "metadata": {},
   "source": [
    "# 2. Write a Python program for removing i-th character from a string?\n"
   ]
  },
  {
   "cell_type": "code",
   "execution_count": 7,
   "id": "9b5ff56d",
   "metadata": {},
   "outputs": [],
   "source": [
    "def remove_char(sentence):\n",
    "    split = sentence.split(\" \")\n",
    "    i_th = int(input(\"Enter position: \"))\n",
    "    for i in split:\n",
    "        if split[i_th]==i:\n",
    "            split.remove(i)\n",
    "    sentence = \" \".join(split)\n",
    "    return sentence"
   ]
  },
  {
   "cell_type": "code",
   "execution_count": 8,
   "id": "a754eddb",
   "metadata": {},
   "outputs": [
    {
     "name": "stdout",
     "output_type": "stream",
     "text": [
      "Enter position: 2\n"
     ]
    },
    {
     "data": {
      "text/plain": [
       "'hi my is nikh'"
      ]
     },
     "execution_count": 8,
     "metadata": {},
     "output_type": "execute_result"
    }
   ],
   "source": [
    "remove_char(\"hi my name is nikh\")"
   ]
  },
  {
   "cell_type": "markdown",
   "id": "86e0954d",
   "metadata": {},
   "source": [
    "#  3. Write a Python program to split and join a string?"
   ]
  },
  {
   "cell_type": "code",
   "execution_count": 12,
   "id": "31643362",
   "metadata": {},
   "outputs": [],
   "source": [
    "def split_join(sentence):\n",
    "    split = sentence.split()\n",
    "    print(\"Splited sentence: \",split)\n",
    "    join  = ' '.join(split)\n",
    "    print(\"sentence joined is: \",join)"
   ]
  },
  {
   "cell_type": "code",
   "execution_count": 13,
   "id": "1b1436d7",
   "metadata": {},
   "outputs": [
    {
     "name": "stdout",
     "output_type": "stream",
     "text": [
      "Splited sentence:  ['My', 'name', 'is', 'nikh']\n",
      "sentence joined is:  My name is nikh\n"
     ]
    }
   ],
   "source": [
    "split_join(\"My name is nikh\")"
   ]
  },
  {
   "cell_type": "markdown",
   "id": "0ce45201",
   "metadata": {},
   "source": [
    "# 4. Write a Python to check if a given string is binary string or not?\n"
   ]
  },
  {
   "cell_type": "code",
   "execution_count": 18,
   "id": "fbd8f270",
   "metadata": {},
   "outputs": [],
   "source": [
    "def binary_check(string):\n",
    "    arrange = set(string)\n",
    "    binary = {'0','1'}\n",
    "    \n",
    "    if binary == arrange or arrange=={'0'} or arrange == {'1'}:\n",
    "        print(\"String is binary\")\n",
    "    else:\n",
    "        print(\"String not binary\")"
   ]
  },
  {
   "cell_type": "code",
   "execution_count": 19,
   "id": "9f161d72",
   "metadata": {},
   "outputs": [
    {
     "name": "stdout",
     "output_type": "stream",
     "text": [
      "String is binary\n"
     ]
    }
   ],
   "source": [
    "binary_check(\"101010\")"
   ]
  },
  {
   "cell_type": "code",
   "execution_count": 20,
   "id": "e38bbc3d",
   "metadata": {},
   "outputs": [
    {
     "name": "stdout",
     "output_type": "stream",
     "text": [
      "String not binary\n"
     ]
    }
   ],
   "source": [
    "binary_check(\"hello\")"
   ]
  },
  {
   "cell_type": "markdown",
   "id": "467ceb32",
   "metadata": {},
   "source": [
    "# 5. Write a Python program to find uncommon words from two Strings?"
   ]
  },
  {
   "cell_type": "code",
   "execution_count": 22,
   "id": "6bcd59eb",
   "metadata": {},
   "outputs": [
    {
     "name": "stdout",
     "output_type": "stream",
     "text": [
      "Enter String: hello team myself nikhil\n",
      "Enter String: hello team task completed\n",
      "['hello', 'team', 'myself', 'nikhil'] \n",
      " ['hello', 'team', 'task', 'completed']\n",
      "['myself', 'nikhil', 'task', 'completed']\n"
     ]
    }
   ],
   "source": [
    "string1 = str(input(\"Enter String: \"))\n",
    "string2 = str(input(\"Enter String: \"))\n",
    "a = string1.split()\n",
    "b = string2.split()\n",
    "print(a,\"\\n\", b)\n",
    "UC = []\n",
    "for i in a:\n",
    "    if i not in b:\n",
    "        UC.append(i)\n",
    "for j in b:\n",
    "    if j not in a:\n",
    "        UC.append(j)\n",
    "print(UC)"
   ]
  },
  {
   "cell_type": "markdown",
   "id": "13ba106d",
   "metadata": {},
   "source": [
    "# 6. Write a Python to find all duplicate characters in string?"
   ]
  },
  {
   "cell_type": "code",
   "execution_count": 26,
   "id": "c35f655c",
   "metadata": {},
   "outputs": [
    {
     "name": "stdout",
     "output_type": "stream",
     "text": [
      "Enter string:  hello team\n",
      "Duplicate characters are:  ['l', 'e']\n"
     ]
    }
   ],
   "source": [
    "string = str(input(\"Enter string:  \"))\n",
    "char = []\n",
    "duplicate = []\n",
    "for i in string:\n",
    "    if i  not in char:\n",
    "        char.append(i)\n",
    "    else:\n",
    "        duplicate.append(i)\n",
    "print(\"Duplicate characters are: \" ,duplicate)"
   ]
  },
  {
   "cell_type": "markdown",
   "id": "ccbce972",
   "metadata": {},
   "source": [
    "# 7. Write a Python Program to check if a string contains any special character?"
   ]
  },
  {
   "cell_type": "code",
   "execution_count": 27,
   "id": "f834a5e6",
   "metadata": {},
   "outputs": [
    {
     "name": "stdout",
     "output_type": "stream",
     "text": [
      "Enter string: Nikhil@#dube\n",
      "Special Char @ found in given string\n",
      "Special Char # found in given string\n"
     ]
    }
   ],
   "source": [
    "spl_char = '[@_!#$%^&*()<>?/\\|}{~:]'\n",
    "string = str(input(\"Enter string: \"))\n",
    "\n",
    "for i in string:\n",
    "    if i not in spl_char:\n",
    "        continue\n",
    "        \n",
    "    else:\n",
    "        print(\"Special Char {} found in given string\".format(i))\n"
   ]
  },
  {
   "cell_type": "code",
   "execution_count": null,
   "id": "b112df50",
   "metadata": {},
   "outputs": [],
   "source": []
  }
 ],
 "metadata": {
  "kernelspec": {
   "display_name": "Python 3",
   "language": "python",
   "name": "python3"
  },
  "language_info": {
   "codemirror_mode": {
    "name": "ipython",
    "version": 3
   },
   "file_extension": ".py",
   "mimetype": "text/x-python",
   "name": "python",
   "nbconvert_exporter": "python",
   "pygments_lexer": "ipython3",
   "version": "3.8.8"
  }
 },
 "nbformat": 4,
 "nbformat_minor": 5
}
