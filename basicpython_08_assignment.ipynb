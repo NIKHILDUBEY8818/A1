{
 "cells": [
  {
   "cell_type": "markdown",
   "id": "74e0d0e9",
   "metadata": {},
   "source": [
    "# 1. Is the Python Standard Library included with PyInputPlus?\n"
   ]
  },
  {
   "cell_type": "code",
   "execution_count": null,
   "id": "c5e1bd8f",
   "metadata": {},
   "outputs": [],
   "source": [
    "PyInputPlus is not a part of Python Standard Library."
   ]
  },
  {
   "cell_type": "markdown",
   "id": "4f3db3b9",
   "metadata": {},
   "source": [
    "# 2. Why is PyInputPlus commonly imported with import pyinputplus as pypi?\n"
   ]
  },
  {
   "cell_type": "code",
   "execution_count": null,
   "id": "df01a50f",
   "metadata": {},
   "outputs": [],
   "source": [
    "This code help us save time from calling."
   ]
  },
  {
   "cell_type": "markdown",
   "id": "6c2fdc99",
   "metadata": {},
   "source": [
    "# 3. How do you distinguish between inputInt() and inputFloat()?\n"
   ]
  },
  {
   "cell_type": "code",
   "execution_count": null,
   "id": "0369a02c",
   "metadata": {},
   "outputs": [],
   "source": [
    "inputFloat() belongs to float class i.e with decimal.\n",
    "inputInt() is for integers i.e number without decimal"
   ]
  },
  {
   "cell_type": "markdown",
   "id": "1834342b",
   "metadata": {},
   "source": [
    "# 5. What is transferred to the keyword arguments allowRegexes and blockRegexes?"
   ]
  },
  {
   "cell_type": "code",
   "execution_count": null,
   "id": "8b466ea7",
   "metadata": {},
   "outputs": [],
   "source": [
    "To take list of regular expression strings to determine , \n",
    "what the pyinputplus function will reject or accept valid input."
   ]
  },
  {
   "cell_type": "markdown",
   "id": "caca4310",
   "metadata": {},
   "source": [
    "# 6. If a blank input is entered three times, what does inputStr(limit=3) do? "
   ]
  },
  {
   "cell_type": "code",
   "execution_count": null,
   "id": "806927d9",
   "metadata": {},
   "outputs": [],
   "source": [
    "ERROR: pyinputplus.RetryLimitException"
   ]
  },
  {
   "cell_type": "markdown",
   "id": "7bc6f515",
   "metadata": {},
   "source": [
    "# 7. If blank input is entered three times, what does inputStr(limit=3, default='hello') do?"
   ]
  },
  {
   "cell_type": "code",
   "execution_count": null,
   "id": "f06caca8",
   "metadata": {},
   "outputs": [],
   "source": [
    "The inputNum() function returns the string 'hello'."
   ]
  }
 ],
 "metadata": {
  "kernelspec": {
   "display_name": "Python 3",
   "language": "python",
   "name": "python3"
  },
  "language_info": {
   "codemirror_mode": {
    "name": "ipython",
    "version": 3
   },
   "file_extension": ".py",
   "mimetype": "text/x-python",
   "name": "python",
   "nbconvert_exporter": "python",
   "pygments_lexer": "ipython3",
   "version": "3.8.8"
  }
 },
 "nbformat": 4,
 "nbformat_minor": 5
}
