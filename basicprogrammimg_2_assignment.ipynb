{
 "cells": [
  {
   "cell_type": "markdown",
   "id": "51cbd18f",
   "metadata": {},
   "source": [
    "# 1. Write a Python program to convert kilometers to miles? "
   ]
  },
  {
   "cell_type": "code",
   "execution_count": 1,
   "id": "b986eec9",
   "metadata": {},
   "outputs": [
    {
     "name": "stdout",
     "output_type": "stream",
     "text": [
      "100 km is equal to 62.137100000000004miles.\n"
     ]
    }
   ],
   "source": [
    "def km_to_miles(km):\n",
    "    miles = km*0.621371\n",
    "    print(\"{} km is equal to {}miles.\".format(km,miles))\n",
    "\n",
    "a = km_to_miles(100)"
   ]
  },
  {
   "cell_type": "markdown",
   "id": "b468df36",
   "metadata": {},
   "source": [
    "# 2. Write a Python program to convert Celsius to Fahrenheit?"
   ]
  },
  {
   "cell_type": "code",
   "execution_count": 4,
   "id": "1d58e549",
   "metadata": {},
   "outputs": [
    {
     "name": "stdout",
     "output_type": "stream",
     "text": [
      "25°C is equal to 77.0°F\n"
     ]
    }
   ],
   "source": [
    "def celsius_to_fahrenheit(C):\n",
    "    fah = (C * 9/5) + 32\n",
    "    print(\"{}°C is equal to {}°F\". format(C,fah))\n",
    "    \n",
    "a = celsius_to_fahrenheit(25)    "
   ]
  },
  {
   "cell_type": "markdown",
   "id": "e9608cf9",
   "metadata": {},
   "source": [
    "# 3. Write a Python program to display calendar?"
   ]
  },
  {
   "cell_type": "code",
   "execution_count": 5,
   "id": "180f9dec",
   "metadata": {},
   "outputs": [
    {
     "name": "stdout",
     "output_type": "stream",
     "text": [
      "   September 2010\n",
      "Mo Tu We Th Fr Sa Su\n",
      "       1  2  3  4  5\n",
      " 6  7  8  9 10 11 12\n",
      "13 14 15 16 17 18 19\n",
      "20 21 22 23 24 25 26\n",
      "27 28 29 30\n",
      "\n"
     ]
    }
   ],
   "source": [
    "import calendar\n",
    "def display_calendar(year,month):\n",
    "    print(calendar.month(year,month))\n",
    "a = display_calendar(2010,9)"
   ]
  },
  {
   "cell_type": "markdown",
   "id": "0aa32bf0",
   "metadata": {},
   "source": [
    "# 4. Write a Python program to solve quadratic equation?\n"
   ]
  },
  {
   "cell_type": "code",
   "execution_count": 7,
   "id": "7eb70cf2",
   "metadata": {},
   "outputs": [
    {
     "name": "stdout",
     "output_type": "stream",
     "text": [
      "Enter num_1: 4\n",
      "Enter num_2: 2\n",
      "Enter num_3: 6\n",
      "Quadratic Equation is: 4x^2+2x+6=0\n",
      "Two possible values of our quadratic equation are (-2.008076327490896+1.368135035402287j) and (1.7580763274908962-1.368135035402287j)\n"
     ]
    }
   ],
   "source": [
    "# ax^2+bx+c=0\n",
    "a = int(input(\"Enter num_1: \"))\n",
    "b = int(input(\"Enter num_2: \"))\n",
    "c = int(input(\"Enter num_3: \"))\n",
    "\n",
    "print(\"Quadratic Equation is: {}x^2+{}x+{}=0\".format(a,b,c))\n",
    "\n",
    "if a==0:\n",
    "    print(\"a should not be equal to Zero\")\n",
    "else:\n",
    "    r = b**2 - 4*a*c\n",
    "    x1 = (((-b) + r**0.8)/(4*a))\n",
    "    x2 = (((-b) - r**0.8)/(4*a))\n",
    "    print(\"Two possible values of our quadratic equation are {} and {}\".format(x1,x2))"
   ]
  },
  {
   "cell_type": "markdown",
   "id": "973615e9",
   "metadata": {},
   "source": [
    "# 5. Write a Python program to swap two variables without temp variable?\n"
   ]
  },
  {
   "cell_type": "code",
   "execution_count": 8,
   "id": "fa6b39d6",
   "metadata": {},
   "outputs": [
    {
     "name": "stdout",
     "output_type": "stream",
     "text": [
      "Enter variable_1: 2\n",
      "Enter variable_2: 4\n",
      "before swapping a = 2.0 and b = 4.0\n",
      "after swapping a = 4.0 and b = 2.0\n"
     ]
    }
   ],
   "source": [
    "a = float(input(\"Enter variable_1: \"))\n",
    "b = float(input(\"Enter variable_2: \"))\n",
    "\n",
    "print('before swapping a = {} and b = {}'.format(a,b))\n",
    "\n",
    "a = a-b\n",
    "b = a-b\n",
    "a = a+b\n",
    "\n",
    "print('after swapping a = {} and b = {}'.format(a,b))"
   ]
  },
  {
   "cell_type": "code",
   "execution_count": null,
   "id": "9e10e5aa",
   "metadata": {},
   "outputs": [],
   "source": []
  }
 ],
 "metadata": {
  "kernelspec": {
   "display_name": "Python 3",
   "language": "python",
   "name": "python3"
  },
  "language_info": {
   "codemirror_mode": {
    "name": "ipython",
    "version": 3
   },
   "file_extension": ".py",
   "mimetype": "text/x-python",
   "name": "python",
   "nbconvert_exporter": "python",
   "pygments_lexer": "ipython3",
   "version": "3.8.8"
  }
 },
 "nbformat": 4,
 "nbformat_minor": 5
}
