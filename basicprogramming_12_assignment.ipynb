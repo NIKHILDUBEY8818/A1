{
 "cells": [
  {
   "cell_type": "markdown",
   "id": "c09658eb",
   "metadata": {},
   "source": [
    "# 1. Write a Python program to Extract Unique values dictionary values?"
   ]
  },
  {
   "cell_type": "code",
   "execution_count": 1,
   "id": "b8ce4ce7",
   "metadata": {},
   "outputs": [
    {
     "name": "stdout",
     "output_type": "stream",
     "text": [
      "['call', 'stand', 'sit']\n"
     ]
    }
   ],
   "source": [
    "d = {'123':'call','222':'call','131':'stand','456':'stand','150':'sit'}\n",
    "l = []\n",
    "for val in d.values():\n",
    "    if val in l:\n",
    "        continue\n",
    "    else:\n",
    "        l.append(val)\n",
    "        \n",
    "print(l)"
   ]
  },
  {
   "cell_type": "markdown",
   "id": "7848747d",
   "metadata": {},
   "source": [
    "# 2. Write a Python program to find the sum of all items in a dictionary?\n"
   ]
  },
  {
   "cell_type": "code",
   "execution_count": 7,
   "id": "c8b41531",
   "metadata": {},
   "outputs": [
    {
     "name": "stdout",
     "output_type": "stream",
     "text": [
      "797\n"
     ]
    }
   ],
   "source": [
    "d = {'a':[121,122],'b':[132,133],'c':[144,145]}\n",
    "l = []\n",
    "for i in d.values():\n",
    "    for j in i:\n",
    "        l.append(j)\n",
    "print(sum(l))"
   ]
  },
  {
   "cell_type": "markdown",
   "id": "7bc0bc94",
   "metadata": {},
   "source": [
    "# 3. Write a Python program to Merging two Dictionaries?"
   ]
  },
  {
   "cell_type": "code",
   "execution_count": 8,
   "id": "67461acf",
   "metadata": {},
   "outputs": [
    {
     "data": {
      "text/plain": [
       "{'d': 700, 'e': 800, 'f': 900, 'a': 200, 'b': 300, 'c': 400}"
      ]
     },
     "execution_count": 8,
     "metadata": {},
     "output_type": "execute_result"
    }
   ],
   "source": [
    "d1 = {'a':200,'b':300,'c':400}\n",
    "d2 = {'d':700,'e':800,'f':900}\n",
    "d2.update(d1)\n",
    "d2"
   ]
  },
  {
   "cell_type": "markdown",
   "id": "1ddbe6d9",
   "metadata": {},
   "source": [
    "# 4. Write a Python program to convert key-values list to flat dictionary?\n"
   ]
  },
  {
   "cell_type": "code",
   "execution_count": 9,
   "id": "c78700b1",
   "metadata": {},
   "outputs": [
    {
     "name": "stdout",
     "output_type": "stream",
     "text": [
      "List ['a', 500, 'b', 600, 'c', 700, 'd', 800, 'e', 900, 'f', 1000] to \n",
      " Dictionary {'a': 500, 'b': 600, 'c': 700, 'd': 800, 'e': 900, 'f': 1000}\n"
     ]
    }
   ],
   "source": [
    "l = ['a',500,'b',600,'c',700,'d',800,'e',900,'f',1000]\n",
    "l1= []\n",
    "l2= []\n",
    "for i in range(0,len(l),2):\n",
    "    l1.append(l[i])\n",
    "\n",
    "for j in range(1,len(l),2):\n",
    "    if j not in l1:\n",
    "        l2.append(l[j])\n",
    "#print(l1)\n",
    "#print(l2)\n",
    "\n",
    "d = dict(zip(l1,l2))\n",
    "print(\"List {} to \\n Dictionary {}\".format(l,d))"
   ]
  },
  {
   "cell_type": "markdown",
   "id": "ae8147f9",
   "metadata": {},
   "source": [
    "# 5. Write a Python program to insertion at the beginning in OrderedDict?\n"
   ]
  },
  {
   "cell_type": "code",
   "execution_count": 10,
   "id": "3453d956",
   "metadata": {},
   "outputs": [],
   "source": [
    "from collections import OrderedDict"
   ]
  },
  {
   "cell_type": "code",
   "execution_count": 15,
   "id": "c0aae0ef",
   "metadata": {},
   "outputs": [
    {
     "name": "stdout",
     "output_type": "stream",
     "text": [
      "OrderedDict([('a', 100), ('b', 200), ('c', 300), ('d', 400), ('e', 500), ('f', 600)])\n",
      "OrderedDict([('a', 100), ('b', 200), ('c', 300), ('d', 400), ('e', 500), ('f', 600), ('g', 700)])\n",
      "OrderedDict([('g', 700), ('a', 100), ('b', 200), ('c', 300), ('d', 400), ('e', 500), ('f', 600)])\n"
     ]
    }
   ],
   "source": [
    "d = {'a': 100, 'b': 200, 'c': 300, 'd': 400, 'e': 500, 'f': 600}\n",
    "od = OrderedDict(d)\n",
    "print(od)\n",
    "od['g'] = 700\n",
    "print(od)\n",
    "od.move_to_end('g', False)\n",
    "print(od)"
   ]
  },
  {
   "cell_type": "markdown",
   "id": "57251c6c",
   "metadata": {},
   "source": [
    "# 6. Write a Python program to check order of character in string using OrderedDict()?\n"
   ]
  },
  {
   "cell_type": "code",
   "execution_count": 20,
   "id": "ecec2b5d",
   "metadata": {},
   "outputs": [
    {
     "name": "stdout",
     "output_type": "stream",
     "text": [
      "{'a': 1000, 'f': 200, 'd': 300, 'c': 400, 'b': 500, 'e': 600}\n",
      "OrderedDict([('a', 1000), ('b', 500), ('c', 400), ('d', 300), ('e', 600), ('f', 200)])\n"
     ]
    }
   ],
   "source": [
    "unordered = {'a': 1000, 'f': 200, 'd': 300, 'c': 400, 'b': 500, 'e': 600}\n",
    "print(unordered)\n",
    "od = OrderedDict(sorted(unordered.items()))\n",
    "print(od)"
   ]
  },
  {
   "cell_type": "markdown",
   "id": "28fa9f2c",
   "metadata": {},
   "source": [
    "# 7. Write a Python program to sort Python Dictionaries by Key or Value?"
   ]
  },
  {
   "cell_type": "code",
   "execution_count": 26,
   "id": "ff83406d",
   "metadata": {},
   "outputs": [
    {
     "name": "stdout",
     "output_type": "stream",
     "text": [
      "Sorted by key:  [('a', 1), ('b', 5), ('c', 4), ('d', 3), ('e', 6), ('f', 2)]\n"
     ]
    }
   ],
   "source": [
    "d = {'a': 1, 'f': 2, 'd': 3, 'c': 4, 'b': 5, 'e': 6}\n",
    "sort = sorted(d.items())\n",
    "\n",
    "print(\"Sorted by key: \",sort)"
   ]
  }
 ],
 "metadata": {
  "kernelspec": {
   "display_name": "Python 3",
   "language": "python",
   "name": "python3"
  },
  "language_info": {
   "codemirror_mode": {
    "name": "ipython",
    "version": 3
   },
   "file_extension": ".py",
   "mimetype": "text/x-python",
   "name": "python",
   "nbconvert_exporter": "python",
   "pygments_lexer": "ipython3",
   "version": "3.8.8"
  }
 },
 "nbformat": 4,
 "nbformat_minor": 5
}
